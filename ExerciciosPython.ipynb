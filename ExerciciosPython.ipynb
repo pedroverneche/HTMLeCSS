{
  "nbformat": 4,
  "nbformat_minor": 0,
  "metadata": {
    "colab": {
      "provenance": [],
      "authorship_tag": "ABX9TyMvazb8TrWInNFWiyf3sCLq",
      "include_colab_link": true
    },
    "kernelspec": {
      "name": "python3",
      "display_name": "Python 3"
    },
    "language_info": {
      "name": "python"
    }
  },
  "cells": [
    {
      "cell_type": "markdown",
      "metadata": {
        "id": "view-in-github",
        "colab_type": "text"
      },
      "source": [
        "<a href=\"https://colab.research.google.com/github/pedroverneche/HTMLeCSS/blob/main/ExerciciosPython.ipynb\" target=\"_parent\"><img src=\"https://colab.research.google.com/assets/colab-badge.svg\" alt=\"Open In Colab\"/></a>"
      ]
    },
    {
      "cell_type": "code",
      "execution_count": 25,
      "metadata": {
        "colab": {
          "base_uri": "https://localhost:8080/"
        },
        "id": "eqPxhJBIC5DR",
        "outputId": "8186c677-548d-4b1d-91a0-2e7a81df2252"
      },
      "outputs": [
        {
          "output_type": "stream",
          "name": "stdout",
          "text": [
            "Digite o valor de A:\n",
            "9\n",
            "Digite o valor de B:\n",
            "3\n",
            "Digite o valor de C:\n",
            "5\n",
            "\n",
            "Não tem raiz x1 e x2\n"
          ]
        }
      ],
      "source": [
        "#Atividade 1 Equação de 2° Grau\n",
        "\n",
        "#Armazenando os coeficientes da equação\n",
        "print('Digite o valor de A:')\n",
        "A = float(input())\n",
        "print('Digite o valor de B:')\n",
        "B = float(input())\n",
        "print('Digite o valor de C:')\n",
        "C = float(input())\n",
        "\n",
        "#delta = b² - 4 * a * c\n",
        "\n",
        "#calculando delta\n",
        "delta = (B * B) - (4 * A * C)\n",
        "\n",
        "#calculando x1 e x2\n",
        "x1 = (-B+ delta**0.5)/(2 * A)\n",
        "x2 = (-B- delta **0.5)/(2 * A)\n",
        "\n",
        "print()\n",
        "#printando na tela o resultado com uma condição\n",
        "if delta < 0:\n",
        "  print('Não tem raiz x1 e x2')\n",
        "else:\n",
        "  print('O valor de x1 é', x1)\n",
        "  print('O valor de x2 é', x2)"
      ]
    },
    {
      "cell_type": "code",
      "source": [
        "#Atividade 2\n",
        "import math #importando a biblioteca math\n",
        "\n",
        "print('Valor x1:')\n",
        "x1 = float(input())\n",
        "print('Valor y1:')\n",
        "y1 = float(input())\n",
        "print('Valor x2:')\n",
        "x2 = float(input())\n",
        "print('Valor y2:')\n",
        "y2 = float(input())\n",
        "\n",
        "#math.pow(x,x)\n",
        "\n",
        "d = math.sqrt(pow(x2 - x1,2) + pow(y2-y1,2))\n",
        "\n",
        "print()\n",
        "print(f'A distancia entre os pontos é {d}')\n",
        "\n"
      ],
      "metadata": {
        "colab": {
          "base_uri": "https://localhost:8080/"
        },
        "id": "Db06KZ_IRWje",
        "outputId": "36c5187b-ab98-4996-a3a0-3abcb25edbfc"
      },
      "execution_count": 29,
      "outputs": [
        {
          "output_type": "stream",
          "name": "stdout",
          "text": [
            "Valor x1:\n",
            "3\n",
            "Valor y1:\n",
            "4\n",
            "Valor x2:\n",
            "6\n",
            "Valor y2:\n",
            "7\n",
            "\n",
            "A distancia entre os pontos é 4.242640687119285\n"
          ]
        }
      ]
    },
    {
      "cell_type": "code",
      "source": [
        "#Ex1 Salario\n",
        "print('Insira o salario atual do funcionário R$')\n",
        "sal = float(input())\n",
        "Nsal = sal * 0.25 + sal\n",
        "print()\n",
        "print(f\"O salário atual do funcionário é R${sal} reais.\")\n",
        "print(f\"O novo salário reajustado é R${Nsal} reais\")"
      ],
      "metadata": {
        "colab": {
          "base_uri": "https://localhost:8080/"
        },
        "id": "3n7mxllUhlVV",
        "outputId": "86ec9c34-eb9b-4a18-ef6e-ccb664f3217c"
      },
      "execution_count": 30,
      "outputs": [
        {
          "output_type": "stream",
          "name": "stdout",
          "text": [
            "Insira o salario atual do funcionário R$\n",
            "1890\n",
            "\n",
            "O salário atual do funcionário é R$1890.0 reais.\n",
            "O novo salário reajustado é R$2362.5 reais\n"
          ]
        }
      ]
    },
    {
      "cell_type": "code",
      "source": [
        "#Atividade 2\n",
        "print('Insira o salario atual do funcionário R$')\n",
        "sal = float(input())\n",
        "print('Insira a % que vai ser reajustado ')\n",
        "percentual = float(input())\n",
        "Nsal = (sal * percentual/100) + sal\n",
        "per = percentual * 100\n",
        "print()\n",
        "\n",
        "if percentual <= 100:\n",
        "  print(f\"O salário atual do funcionário é R${sal:.2f} reais. O percentual reajustado será {per:.0f}%\")\n",
        "  print(f\"O novo salário reajustado é R${Nsal:.2f} reais\")\n",
        "else:\n",
        "  print('Não damos aumento acima de 100%')\n"
      ],
      "metadata": {
        "colab": {
          "base_uri": "https://localhost:8080/"
        },
        "id": "NzSv8XGhimTl",
        "outputId": "897e24ac-cdd7-42b2-c58b-a513d361ad68"
      },
      "execution_count": 42,
      "outputs": [
        {
          "output_type": "stream",
          "name": "stdout",
          "text": [
            "Insira o salario atual do funcionário R$\n",
            "939939\n",
            "Insira a % que vai ser reajustado \n",
            "25\n",
            "\n",
            "Não damos aumento acima de 100%\n"
          ]
        }
      ]
    },
    {
      "cell_type": "code",
      "source": [],
      "metadata": {
        "id": "XFaL89GDp2N0"
      },
      "execution_count": null,
      "outputs": []
    }
  ]
}